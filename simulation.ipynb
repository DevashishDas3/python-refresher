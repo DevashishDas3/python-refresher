{
 "cells": [
  {
   "cell_type": "markdown",
   "metadata": {},
   "source": [
    "# Simulation"
   ]
  },
  {
   "cell_type": "code",
   "execution_count": 1,
   "metadata": {},
   "outputs": [],
   "source": [
    "import numpy as np"
   ]
  },
  {
   "cell_type": "markdown",
   "metadata": {},
   "source": [
    "## Parameters"
   ]
  },
  {
   "cell_type": "code",
   "execution_count": 2,
   "metadata": {},
   "outputs": [],
   "source": [
    "density_water = 1000  # kg/m^3\n",
    "density_object = 500  # kg/m^3\n",
    "object_volume = 0.1  # m^3\n",
    "g = 9.81  # m/s^2\n",
    "time_step = 0.01  # s\n",
    "time_max = 10  # s"
   ]
  },
  {
   "cell_type": "code",
   "execution_count": 3,
   "metadata": {},
   "outputs": [],
   "source": [
    "time = 0  # s\n",
    "depth = 0  # m\n",
    "velocity = 0  # m/s\n",
    "acceleration = 0  # m/s^2\n",
    "buoyancy =  density_water * g * object_volume # N\n",
    "weight =  (density_object * object_volume) * g # N "
   ]
  },
  {
   "cell_type": "code",
   "execution_count": 4,
   "metadata": {},
   "outputs": [],
   "source": [
    "# lists for plotting later\n",
    "time = np.arange(0, time_max, time_step)\n",
    "position = np.zeros_like(time)\n",
    "velocity = np.zeros_like(time)\n",
    "acceleration = np.zeros_like(time)"
   ]
  },
  {
   "cell_type": "code",
   "execution_count": 5,
   "metadata": {},
   "outputs": [],
   "source": [
    "# simulation loop\n",
    "for i in range(1, len(time)):\n",
    "    # calculate the force on the object (ma)\n",
    "    \n",
    "    force = (buoyancy - weight)\n",
    "\n",
    "    # calculate acceleration (a)\n",
    "\n",
    "    acceleration[i] = (force/(density_object * object_volume))\n",
    "\n",
    "    # calculate velocity (delta a)\n",
    "\n",
    "    velocity[i] = acceleration[i - 1] * time_step + velocity[i-1]\n",
    "    \n",
    "    # calculate position\n",
    "\n",
    "    position[i] = velocity[i-1] * time_step + position[i-1]\n",
    "\n",
    "    \n",
    "    pass"
   ]
  },
  {
   "cell_type": "markdown",
   "metadata": {},
   "source": [
    "# Plot the results"
   ]
  },
  {
   "cell_type": "code",
   "execution_count": 6,
   "metadata": {},
   "outputs": [],
   "source": [
    "import matplotlib.pyplot as plt"
   ]
  },
  {
   "cell_type": "markdown",
   "metadata": {},
   "source": [
    "#fouyant = bf-bi/dt\n",
    "plt.plot(time, position, label=\"Position\")\n",
    "plt.plot(time, velocity, label=\"Velocity\")\n",
    "plt.plot(time, acceleration, label=\"Acceleration\")\n",
    "plt.xlabel(\"Time (s)\")\n",
    "plt.ylabel(\"Position (m), Velocity (m/s), Acceleration (m/s^2)\")\n",
    "plt.legend()\n",
    "plt.show()"
   ]
  },
  {
   "cell_type": "code",
   "execution_count": null,
   "metadata": {},
   "outputs": [],
   "source": []
  }
 ],
 "metadata": {
  "kernelspec": {
   "display_name": "Python 3 (ipykernel)",
   "language": "python",
   "name": "python3"
  },
  "language_info": {
   "codemirror_mode": {
    "name": "ipython",
    "version": 3
   },
   "file_extension": ".py",
   "mimetype": "text/x-python",
   "name": "python",
   "nbconvert_exporter": "python",
   "pygments_lexer": "ipython3",
   "version": "3.9.2"
  }
 },
 "nbformat": 4,
 "nbformat_minor": 2
}
